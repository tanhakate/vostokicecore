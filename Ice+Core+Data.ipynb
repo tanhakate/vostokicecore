{
 "cells": [
  {
   "cell_type": "code",
   "execution_count": 11,
   "metadata": {},
   "outputs": [
    {
     "name": "stdout",
     "output_type": "stream",
     "text": [
      "Populating the interactive namespace from numpy and matplotlib\n"
     ]
    }
   ],
   "source": [
    "%pylab inline\n",
    "import matplotlib.pyplot as plt\n",
    "import numpy as np\n",
    "from matplotlib import style\n",
    "import pandas as pd\n",
    "import plotly\n",
    "import plotly.graph_objs as go\n",
    "import plotly.plotly as py\n",
    "\n",
    "plotly.tools.set_credentials_file(username='tanhakat3', api_key='1S3s3FQUUO7OuweDealN')"
   ]
  },
  {
   "cell_type": "code",
   "execution_count": 12,
   "metadata": {},
   "outputs": [
    {
     "data": {
      "text/html": [
       "<iframe id=\"igraph\" scrolling=\"no\" style=\"border:none;\" seamless=\"seamless\" src=\"https://plot.ly/~tanhakat3/10.embed\" height=\"525px\" width=\"100%\"></iframe>"
      ],
      "text/plain": [
       "<plotly.tools.PlotlyDisplay object>"
      ]
     },
     "execution_count": 12,
     "metadata": {},
     "output_type": "execute_result"
    }
   ],
   "source": [
    "import csv\n",
    " \n",
    "with open('vostok.csv.csv') as csvdf:\n",
    "    depth = []\n",
    "    iceage = []\n",
    "    gasage = []\n",
    "    co2 = []\n",
    "    temp = []\n",
    "    csvReader = csv.reader(csvdf)\n",
    "    for row in csvReader:\n",
    "            depth.append(row[0])\n",
    "            iceage.append(row[1])\n",
    "            gasage.append(row[2])\n",
    "            co2.append(row[3])\n",
    "            temp.append(row[4])\n",
    "            \n",
    "            \n",
    "\n",
    "depth = depth[3:]\n",
    "iceage = np.array(list(map(float, iceage[3:])))\n",
    "#iceage = [1950-(i*1000) for i in iceage]\n",
    "gasage = np.array(list(map(float, gasage[3:])))\n",
    "#gasage = [1950-(j*1000) for j in gasage]\n",
    "\n",
    "\n",
    "trace1 = go.Scatter(x=depth,y=iceage,mode = 'lines',name = 'Ice Age (ka)')\n",
    "\n",
    "trace2 = go.Scatter(x=depth,y=gasage, mode = 'lines', name = 'Gas Age (ka)')\n",
    "\n",
    "layout = go.Layout(\n",
    "    title='',\n",
    "    xaxis=dict(\n",
    "        title='Depth(m)',\n",
    "        titlefont=dict(\n",
    "            family='Calibri',\n",
    "            size=18,\n",
    "            color='#7f7f7f'\n",
    "        )\n",
    "    ),\n",
    "    yaxis=dict(\n",
    "        title='Age (ka)',\n",
    "        titlefont=dict(\n",
    "            family='Calibri',\n",
    "            size=18,\n",
    "            color='#7f7f7f'\n",
    "        )\n",
    "    )\n",
    ")\n",
    "\n",
    "data = [trace1, trace2]\n",
    "fig = go.Figure(data=data, layout=layout)\n",
    "py.iplot(fig, filename='age',layout=layout)\n",
    "\n"
   ]
  },
  {
   "cell_type": "markdown",
   "metadata": {},
   "source": [
    "At a depth of 1,000 m, a bubble of gas is 4.15 thousand years younger than the ice around it. This occurs because bubbles of gas can only be trapped effectively in layers of older ice, which are below the surface.  When the pores of ice close, the newer gas is trapped in the older ice."
   ]
  },
  {
   "cell_type": "code",
   "execution_count": 20,
   "metadata": {},
   "outputs": [
    {
     "data": {
      "text/html": [
       "<iframe id=\"igraph\" scrolling=\"no\" style=\"border:none;\" seamless=\"seamless\" src=\"https://plot.ly/~tanhakat3/12.embed\" height=\"525px\" width=\"100%\"></iframe>"
      ],
      "text/plain": [
       "<plotly.tools.PlotlyDisplay object>"
      ]
     },
     "execution_count": 20,
     "metadata": {},
     "output_type": "execute_result"
    }
   ],
   "source": [
    "temp = np.array(list(map(float, temp[3:])))\n",
    "tempvar = [i+60.3937543 for i in temp]\n",
    "\n",
    "\n",
    "trace1 = go.Scatter(x=iceage,y=tempvar,mode = 'lines',name = 'Temperature Variation (C)')\n",
    "\n",
    "layout = go.Layout(\n",
    "    title='',\n",
    "    xaxis=dict(\n",
    "        title='Ice Age (ka)',\n",
    "        titlefont=dict(\n",
    "            family='Calibri',\n",
    "            size=18,\n",
    "            color='#7f7f7f'\n",
    "        )\n",
    "    ),\n",
    "    yaxis=dict(\n",
    "        title='Change in Temperature (C)',\n",
    "        titlefont=dict(\n",
    "            family='Calibri',\n",
    "            size=18,\n",
    "            color='#7f7f7f'\n",
    "        )\n",
    "    ),\n",
    ")\n",
    "\n",
    "data = [trace1]\n",
    "fig = go.Figure(data=data, layout=layout)\n",
    "\n",
    "py.iplot(fig, filename='tempa',layout=layout)\n",
    "\n"
   ]
  },
  {
   "cell_type": "markdown",
   "metadata": {},
   "source": [
    "The climate has varied by about 12 degrees Celsius according to this data."
   ]
  },
  {
   "cell_type": "code",
   "execution_count": 21,
   "metadata": {},
   "outputs": [
    {
     "data": {
      "text/html": [
       "<iframe id=\"igraph\" scrolling=\"no\" style=\"border:none;\" seamless=\"seamless\" src=\"https://plot.ly/~tanhakat3/14.embed\" height=\"525px\" width=\"100%\"></iframe>"
      ],
      "text/plain": [
       "<plotly.tools.PlotlyDisplay object>"
      ]
     },
     "execution_count": 21,
     "metadata": {},
     "output_type": "execute_result"
    }
   ],
   "source": [
    "co2 = np.array(list(map(float, co2[3:])))\n",
    "\n",
    "trace2 = go.Scatter(x=iceage,y=co2,mode = 'lines',name = 'Carbon Dioxide (ppmv)')\n",
    "\n",
    "layout = go.Layout(\n",
    "    title='',\n",
    "    xaxis=dict(\n",
    "        title='Ice Age (ka)',\n",
    "        titlefont=dict(\n",
    "            family='Calibri',\n",
    "            size=18,\n",
    "            color='#7f7f7f'\n",
    "        )\n",
    "    ),\n",
    "    yaxis=dict(\n",
    "        title='Carbon Dioxide Variation (ppmv)',\n",
    "        titlefont=dict(\n",
    "            family='Calibri',\n",
    "            size=18,\n",
    "            color='#7f7f8f'\n",
    "        )\n",
    "    )\n",
    ")\n",
    "\n",
    "data = [trace2]\n",
    "fig = go.Figure(data=data, layout=layout)\n",
    "py.iplot(fig, filename='carbona',layout=layout)\n"
   ]
  }
 ],
 "metadata": {
  "kernelspec": {
   "display_name": "Python 3",
   "language": "python",
   "name": "python3"
  },
  "language_info": {
   "codemirror_mode": {
    "name": "ipython",
    "version": 3
   },
   "file_extension": ".py",
   "mimetype": "text/x-python",
   "name": "python",
   "nbconvert_exporter": "python",
   "pygments_lexer": "ipython3",
   "version": "3.6.1"
  }
 },
 "nbformat": 4,
 "nbformat_minor": 2
}
